{
 "cells": [
  {
   "cell_type": "markdown",
   "id": "formal-indiana",
   "metadata": {},
   "source": [
    "```\n",
    "seq 10000 300000 | xargs -P 32 -I game_id wget https://rbc.jhuapl.edu/api/games/game_id/game_history --user SomeRegret --password $RC_PASSWORD_SR -nc -O game_id.json -q\n",
    "\n",
    "find . -empty -type f -delete\n",
    "\n",
    "ls . | wc -l\n",
    "```"
   ]
  },
  {
   "cell_type": "code",
   "execution_count": null,
   "id": "exact-liberia",
   "metadata": {},
   "outputs": [],
   "source": [
    "from glob import glob\n",
    "import json\n",
    "from pathlib import Path\n",
    "\n",
    "import chess\n",
    "import numpy as np\n",
    "import pandas as pd\n",
    "from tqdm.auto import tqdm"
   ]
  },
  {
   "cell_type": "code",
   "execution_count": null,
   "id": "personalized-october",
   "metadata": {},
   "outputs": [],
   "source": [
    "import dask\n",
    "import dask.bag as db\n",
    "from dask.distributed import Client, progress"
   ]
  },
  {
   "cell_type": "code",
   "execution_count": null,
   "id": "applied-founder",
   "metadata": {},
   "outputs": [],
   "source": [
    "client = Client(n_workers=6, threads_per_worker=1)\n",
    "client"
   ]
  },
  {
   "cell_type": "code",
   "execution_count": null,
   "id": "future-lobby",
   "metadata": {},
   "outputs": [],
   "source": [
    "def parse(path_and_text):\n",
    "    text, path = path_and_text\n",
    "    game = json.loads(text)[\"game_history\"]\n",
    "    game[\"id\"] = int(path.split(\"/\")[-1][:-5])\n",
    "    return game"
   ]
  },
  {
   "cell_type": "code",
   "execution_count": null,
   "id": "executed-siemens",
   "metadata": {},
   "outputs": [],
   "source": [
    "def get_actions(history):\n",
    "    actions = []\n",
    "    white_senses = iter(history[\"senses\"][\"true\"])\n",
    "    black_senses = iter(history[\"senses\"][\"false\"])\n",
    "    white_moves = iter(history[\"requested_moves\"][\"true\"])\n",
    "    black_moves = iter(history[\"requested_moves\"][\"false\"])\n",
    "    try:\n",
    "        while True:\n",
    "            square = next(white_senses)\n",
    "            square = \"00\" if square is None else chess.SQUARE_NAMES[square]\n",
    "            actions.append(square)\n",
    "            move = next(white_moves)\n",
    "            move = \"0000\" if move is None else move[\"value\"]\n",
    "            actions.append(move)\n",
    "            square = next(black_senses)\n",
    "            square = \"00\" if square is None else chess.SQUARE_NAMES[square]\n",
    "            actions.append(square)\n",
    "            move = next(black_moves)\n",
    "            move = \"0000\" if move is None else move[\"value\"]\n",
    "            actions.append(move)\n",
    "    except StopIteration:\n",
    "        pass\n",
    "    return \" \".join(actions)"
   ]
  },
  {
   "cell_type": "code",
   "execution_count": null,
   "id": "normal-devon",
   "metadata": {},
   "outputs": [],
   "source": [
    "def flatten(game):\n",
    "    return {\n",
    "        \"id\": game[\"id\"],\n",
    "        \"white\": game[\"white_name\"],\n",
    "        \"black\": game[\"black_name\"],\n",
    "        \"winner\": game[\"winner_color\"],\n",
    "        \"timeout\": game[\"win_reason\"][\"value\"] == \"TIMEOUT\",\n",
    "        \"actions\": get_actions(game),\n",
    "    }"
   ]
  },
  {
   "cell_type": "code",
   "execution_count": null,
   "id": "underlying-thread",
   "metadata": {},
   "outputs": [],
   "source": [
    "b = db.read_text('../wgetGames/*.json', include_path=True)\n",
    "b"
   ]
  },
  {
   "cell_type": "code",
   "execution_count": null,
   "id": "pressing-fundamental",
   "metadata": {},
   "outputs": [],
   "source": [
    "df = b.map(parse).map(flatten).to_dataframe().set_index(\"id\")"
   ]
  },
  {
   "cell_type": "code",
   "execution_count": null,
   "id": "sexual-access",
   "metadata": {},
   "outputs": [],
   "source": [
    "df.head(5)"
   ]
  },
  {
   "cell_type": "code",
   "execution_count": null,
   "id": "virtual-bibliography",
   "metadata": {},
   "outputs": [],
   "source": [
    "df = df.compute()"
   ]
  },
  {
   "cell_type": "code",
   "execution_count": null,
   "id": "declared-nursery",
   "metadata": {},
   "outputs": [],
   "source": [
    "df.to_pickle(\"dask_histories.pkl\")\n",
    "df.to_csv(\"dask_histories.csv\")"
   ]
  },
  {
   "cell_type": "code",
   "execution_count": null,
   "id": "pending-permission",
   "metadata": {},
   "outputs": [],
   "source": []
  }
 ],
 "metadata": {
  "kernelspec": {
   "display_name": "chess",
   "language": "python",
   "name": "chess"
  },
  "language_info": {
   "codemirror_mode": {
    "name": "ipython",
    "version": 3
   },
   "file_extension": ".py",
   "mimetype": "text/x-python",
   "name": "python",
   "nbconvert_exporter": "python",
   "pygments_lexer": "ipython3",
   "version": "3.9.2"
  }
 },
 "nbformat": 4,
 "nbformat_minor": 5
}
