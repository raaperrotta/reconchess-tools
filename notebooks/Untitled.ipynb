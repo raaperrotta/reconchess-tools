{
 "cells": [
  {
   "cell_type": "code",
   "execution_count": 1,
   "id": "indian-favor",
   "metadata": {},
   "outputs": [
    {
     "name": "stdout",
     "output_type": "stream",
     "text": [
      "/Users/robertperrotta/github/reconchess-tools\n"
     ]
    }
   ],
   "source": [
    "%cd .."
   ]
  },
  {
   "cell_type": "code",
   "execution_count": 2,
   "id": "naughty-ending",
   "metadata": {},
   "outputs": [],
   "source": [
    "import os\n",
    "import random\n",
    "\n",
    "import chess\n",
    "import chess.engine\n",
    "import reconchess\n",
    "\n",
    "import numpy as np\n",
    "import pandas as pd\n",
    "from tqdm import tqdm, trange\n",
    "\n",
    "import reconchess_tools.mht\n",
    "import reconchess_tools.strategy\n",
    "import reconchess_tools.utilities"
   ]
  },
  {
   "cell_type": "code",
   "execution_count": 3,
   "id": "desirable-activity",
   "metadata": {},
   "outputs": [
    {
     "name": "stderr",
     "output_type": "stream",
     "text": [
      "100%|██████████| 1/1 [00:02<00:00,  2.03s/it]\n",
      "100%|██████████| 13/13 [00:01<00:00,  7.51it/s]\n",
      "100%|██████████| 13/13 [00:02<00:00,  6.17it/s]\n",
      "100%|██████████| 20/20 [00:01<00:00, 12.14it/s]\n",
      "100%|██████████| 2/2 [00:00<00:00,  4.75it/s]\n",
      "100%|██████████| 1/1 [00:00<00:00,  7.77it/s]\n",
      "100%|██████████| 1/1 [00:00<00:00, 10.43it/s]\n",
      "100%|██████████| 7/7 [00:00<00:00, 10.03it/s]\n",
      "100%|██████████| 1/1 [00:00<00:00,  5.86it/s]\n",
      "100%|██████████| 1/1 [00:00<00:00, 18.05it/s]\n",
      "100%|██████████| 4/4 [00:00<00:00,  6.22it/s]\n",
      "100%|██████████| 1/1 [00:00<00:00, 14.82it/s]\n",
      "100%|██████████| 1/1 [00:00<00:00,  4.79it/s]\n",
      "100%|██████████| 17/17 [00:00<00:00, 18.82it/s]\n",
      "100%|██████████| 1/1 [00:00<00:00,  2.03it/s]\n",
      "100%|██████████| 1/1 [00:00<00:00, 37.19it/s]\n",
      "100%|██████████| 1/1 [00:00<00:00,  4.78it/s]\n",
      "100%|██████████| 1/1 [00:00<00:00, 21.11it/s]\n",
      "100%|██████████| 1/1 [00:00<00:00,  9.89it/s]\n",
      "100%|██████████| 17/17 [00:00<00:00, 23.28it/s]\n",
      "100%|██████████| 1/1 [00:00<00:00,  5.02it/s]\n",
      "100%|██████████| 1/1 [00:00<00:00, 27.47it/s]\n",
      "100%|██████████| 1/1 [00:00<00:00,  5.53it/s]\n",
      "100%|██████████| 1/1 [00:00<00:00, 30.06it/s]\n",
      "100%|██████████| 1/1 [00:00<00:00, 12.79it/s]\n",
      "100%|██████████| 1/1 [00:00<00:00, 14.10it/s]\n",
      "100%|██████████| 12/12 [00:00<00:00, 13.34it/s]\n",
      "100%|██████████| 1/1 [00:00<00:00, 10.08it/s]\n",
      "100%|██████████| 1/1 [00:00<00:00, 25.05it/s]\n",
      "100%|██████████| 11/11 [00:00<00:00, 15.82it/s]\n",
      "100%|██████████| 5/5 [00:00<00:00, 10.42it/s]\n",
      "100%|██████████| 8/8 [00:00<00:00, 29.95it/s]\n",
      "100%|██████████| 1/1 [00:00<00:00, 23.42it/s]\n",
      "100%|██████████| 18/18 [00:00<00:00, 38.10it/s]\n",
      "100%|██████████| 1/1 [00:00<00:00, 17.94it/s]\n",
      "100%|██████████| 1/1 [00:00<00:00, 20.87it/s]\n",
      "100%|██████████| 1/1 [00:00<00:00, 48.44it/s]\n",
      "100%|██████████| 5/5 [00:00<00:00, 35.06it/s]\n",
      "100%|██████████| 9/9 [00:00<00:00, 14.36it/s]\n",
      "100%|██████████| 4/4 [00:00<00:00, 18.28it/s]\n",
      "100%|██████████| 64/64 [00:01<00:00, 45.62it/s]\n",
      "100%|██████████| 36/36 [00:01<00:00, 27.68it/s]\n",
      "100%|██████████| 1/1 [00:00<00:00, 20.34it/s]\n",
      "100%|██████████| 1/1 [00:00<00:00, 30.40it/s]\n",
      "100%|██████████| 14/14 [00:00<00:00, 33.75it/s]\n",
      "100%|██████████| 1/1 [00:00<00:00, 38.22it/s]\n",
      "100%|██████████| 1/1 [00:00<00:00, 305.51it/s]\n",
      "100%|██████████| 6/6 [00:00<00:00, 147.61it/s]\n",
      "100%|██████████| 1/1 [00:00<00:00, 289.84it/s]"
     ]
    },
    {
     "name": "stdout",
     "output_type": "stream",
     "text": [
      "Game Over!\n",
      "Winner: black! (WinReason.KING_CAPTURE)\n"
     ]
    },
    {
     "name": "stderr",
     "output_type": "stream",
     "text": [
      "\n"
     ]
    }
   ],
   "source": [
    "from example_bot.bot import MhtBot\n",
    "\n",
    "game = reconchess.LocalGame(900)\n",
    "\n",
    "white = MhtBot()\n",
    "black = MhtBot()\n",
    "\n",
    "winner_color, win_reason, history = reconchess.play_local_game(\n",
    "    white, black, game=game\n",
    ")\n",
    "winner = \"Draw\" if winner_color is None else chess.COLOR_NAMES[winner_color]\n",
    "\n",
    "print(\"Game Over!\")\n",
    "print(f\"Winner: {winner}! ({win_reason})\")"
   ]
  }
 ],
 "metadata": {
  "kernelspec": {
   "display_name": "chess",
   "language": "python",
   "name": "chess"
  },
  "language_info": {
   "codemirror_mode": {
    "name": "ipython",
    "version": 3
   },
   "file_extension": ".py",
   "mimetype": "text/x-python",
   "name": "python",
   "nbconvert_exporter": "python",
   "pygments_lexer": "ipython3",
   "version": "3.9.2"
  }
 },
 "nbformat": 4,
 "nbformat_minor": 5
}
